{
  "nbformat": 4,
  "nbformat_minor": 0,
  "metadata": {
    "colab": {
      "provenance": []
    },
    "kernelspec": {
      "name": "python3",
      "display_name": "Python 3"
    },
    "language_info": {
      "name": "python"
    }
  },
  "cells": [
    {
      "cell_type": "code",
      "execution_count": 1,
      "metadata": {
        "colab": {
          "base_uri": "https://localhost:8080/"
        },
        "id": "4dN8CuOPHFtq",
        "outputId": "84a7ab51-8500-46ee-d264-70d32329612a"
      },
      "outputs": [
        {
          "output_type": "stream",
          "name": "stdout",
          "text": [
            "Average salary: 148750.0\n"
          ]
        }
      ],
      "source": [
        "\n",
        "class Employee:\n",
        "\n",
        "\n",
        "    # data member to count the number of Employees\n",
        "    no_of_employees = 0\n",
        "\n",
        "  #Create a constructor to initialize name, family, salary, department\n",
        "    def __init__(self, name, family_name, salary, department):\n",
        "        self.__name = name\n",
        "        self.__family_name = family_name\n",
        "        self.salary = salary\n",
        "        self.__department = department\n",
        "        Employee.no_of_employees += 1\n",
        "\n",
        "  # Create a function to average salary\n",
        "    @staticmethod\n",
        "    def average_salary(employees):\n",
        "        sum = 0\n",
        "        for employee in employees:\n",
        "            sum += employee.salary\n",
        "        return sum / Employee.no_of_employees\n",
        "\n",
        " # Create a Fulltime Employee class and it should inherit the properties of Employee class\n",
        "class FulltimeEmployee(Employee):\n",
        "\n",
        "    def __init__(self, name, family_name, salary, department):\n",
        "        super().__init__(name, family_name, salary, department)\n",
        "\n",
        "\n",
        "def main():\n",
        "    employees = []\n",
        "    fte1 = FulltimeEmployee(\"Employee1\", \"FamilyName1\", 120000, \"Management\")\n",
        "    employees.append(fte1)\n",
        "    fte2 = FulltimeEmployee(\"Employee2\", \"FamilyName2\", 180000, \"RnD\")\n",
        "    employees.append(fte2)\n",
        "    emp1 = Employee(\"Employee3\", \"FamilyName3\", 160000, \"Marketing\")\n",
        "    employees.append(emp1)\n",
        "    emp2 = Employee(\"Employee4\", \"FamilyName4\", 135000, \"HR\")\n",
        "    employees.append(emp2)\n",
        "    print(\"Average salary:\", FulltimeEmployee.average_salary(employees))\n",
        "\n",
        "\n",
        "if __name__ == \"__main__\":\n",
        "    main()\n"
      ]
    },
    {
      "cell_type": "code",
      "source": [
        "import numpy as np\n",
        "\n",
        "\n",
        "def replace_maxmium(array, replace_value, axis):\n",
        "    \"\"\" choose from x or y depending on condition: np.where(condition, x, y) \"\"\"\n",
        "    output = np.where(array == np.max(\n",
        "        array, axis=1).reshape(-1, 1), 0 * array, array)\n",
        "    print(output)\n",
        "\n",
        "\n",
        "def main():\n",
        "\n",
        "    # Using NumPy create random vector of size 20 having only float\n",
        "    # in the range 1-20.\n",
        "\n",
        "    # continuous uniform distribution in [0, 1).\n",
        "    # To sample Unif[a, b): (b - a) * random_sample() + a\n",
        "    random20 = np.random.random_sample(20) * 20 + 1\n",
        "    print(random20)\n",
        "\n",
        "    # Reshape the array to 4 by 5\n",
        "    random20_4by5 = random20.reshape((4, 5))\n",
        "    print(random20_4by5)\n",
        "\n",
        "    # Replace the max in each row by 0(axis=1)\n",
        "    replace_maxmium(random20_4by5, 0, 1)\n",
        "\n",
        "\n",
        "if __name__ == \"__main__\":\n",
        "    main()\n"
      ],
      "metadata": {
        "colab": {
          "base_uri": "https://localhost:8080/"
        },
        "id": "xHm_gUwfKFCy",
        "outputId": "5b033040-b588-45d1-f3c2-66ab75d3f974"
      },
      "execution_count": 2,
      "outputs": [
        {
          "output_type": "stream",
          "name": "stdout",
          "text": [
            "[17.30967177 17.18792363 19.10251281  7.85815947  1.67933419  9.711695\n",
            "  9.75992003  4.64855185  4.26890783 18.01562798 11.39724164 11.71343722\n",
            " 14.31207805  4.98727364 19.00453181 10.24975912 11.94548433 18.90998172\n",
            "  9.52307149 18.30924284]\n",
            "[[17.30967177 17.18792363 19.10251281  7.85815947  1.67933419]\n",
            " [ 9.711695    9.75992003  4.64855185  4.26890783 18.01562798]\n",
            " [11.39724164 11.71343722 14.31207805  4.98727364 19.00453181]\n",
            " [10.24975912 11.94548433 18.90998172  9.52307149 18.30924284]]\n",
            "[[17.30967177 17.18792363  0.          7.85815947  1.67933419]\n",
            " [ 9.711695    9.75992003  4.64855185  4.26890783  0.        ]\n",
            " [11.39724164 11.71343722 14.31207805  4.98727364  0.        ]\n",
            " [10.24975912 11.94548433  0.          9.52307149 18.30924284]]\n"
          ]
        }
      ]
    }
  ]
}